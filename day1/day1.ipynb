{
 "cells": [
  {
   "cell_type": "code",
   "execution_count": 1,
   "metadata": {},
   "outputs": [],
   "source": [
    "import numpy as np\n",
    "\n",
    "report =  sorted(np.loadtxt('input.txt',dtype=int))"
   ]
  },
  {
   "cell_type": "code",
   "execution_count": 2,
   "metadata": {},
   "outputs": [
    {
     "name": "stdout",
     "output_type": "stream",
     "text": [
      "712075\n"
     ]
    }
   ],
   "source": [
    "found=False\n",
    "for value in report:\n",
    "  delta=2020-value\n",
    "  for value2 in reversed(report):\n",
    "    if found: break\n",
    "    if (delta==value2):\n",
    "        print(value*value2)\n",
    "        found=True\n",
    "        break\n",
    "    \n",
    "  "
   ]
  },
  {
   "cell_type": "code",
   "execution_count": 3,
   "metadata": {},
   "outputs": [
    {
     "name": "stdout",
     "output_type": "stream",
     "text": [
      "145245270\n"
     ]
    }
   ],
   "source": [
    "found=False\n",
    "for value in report:\n",
    "  for value2 in report:\n",
    "    delta=2020-value-value2\n",
    "    for value3 in reversed(report):\n",
    "      if found: break\n",
    "      if (delta==value3):\n",
    "          print(value*value2*value3)\n",
    "          found=True\n",
    "          break"
   ]
  }
 ],
 "metadata": {
  "kernelspec": {
   "display_name": "Python 3",
   "language": "python",
   "name": "python3"
  },
  "language_info": {
   "codemirror_mode": {
    "name": "ipython",
    "version": 3
   },
   "file_extension": ".py",
   "mimetype": "text/x-python",
   "name": "python",
   "nbconvert_exporter": "python",
   "pygments_lexer": "ipython3",
   "version": "3.8.5"
  }
 },
 "nbformat": 4,
 "nbformat_minor": 4
}
