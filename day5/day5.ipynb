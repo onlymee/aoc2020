{
 "metadata": {
  "language_info": {
   "codemirror_mode": {
    "name": "ipython",
    "version": 3
   },
   "file_extension": ".py",
   "mimetype": "text/x-python",
   "name": "python",
   "nbconvert_exporter": "python",
   "pygments_lexer": "ipython3",
   "version": "3.8.5-final"
  },
  "orig_nbformat": 2,
  "kernelspec": {
   "name": "python38564bitaoc2020venvda3d6bf238204d4193a8e58ad4a8d7f0",
   "display_name": "Python 3.8.5 64-bit ('aoc2020': venv)"
  }
 },
 "nbformat": 4,
 "nbformat_minor": 2,
 "cells": [
  {
   "cell_type": "code",
   "execution_count": null,
   "metadata": {},
   "outputs": [],
   "source": [
    "def b2d(s):\n",
    "  dec = 0\n",
    "  for chr in s:\n",
    "    dec = (dec*2+1) if (chr=='B' or chr=='R') else dec*2\n",
    "  return dec\n",
    "\n",
    "print(b2d(\"BFFFBBFRRR\"))\n",
    "print(b2d(\"FFFBBBFRRR\"))\n",
    "print(b2d(\"BBFFBBFRLL\"))"
   ]
  },
  {
   "cell_type": "code",
   "execution_count": null,
   "metadata": {
    "tags": []
   },
   "outputs": [],
   "source": [
    "found_seats=[]\n",
    "#avail_seats=[i for i in range(1024)]\n",
    "input = open('input.txt','r')\n",
    "for line in input:\n",
    "  s=b2d(line.strip())\n",
    "  found_seats.append(s)\n",
    "#  avail_seats.remove(s)\n",
    "\n",
    "a=min(found_seats); b=max(found_seats)\n",
    "seat_sum=(a+b)*(b-a+1)/2\n",
    "my_seat=int(seat_sum-sum(found_seats))\n",
    "\n",
    "print(max(found_seats),my_seat)\n",
    "\n",
    "input.close()"
   ]
  }
 ]
}