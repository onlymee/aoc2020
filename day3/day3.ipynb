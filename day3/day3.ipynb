{
 "cells": [
  {
   "cell_type": "code",
   "execution_count": null,
   "metadata": {},
   "outputs": [],
   "source": [
    "hillfile =  open('../day3/input.txt','r')\n",
    "hill=[]\n",
    "for line in hillfile:\n",
    "  hill.append(line.strip())\n",
    "\n",
    "height = len(hill)\n",
    "width = len(hill[1])\n",
    "print(\"Map size = ({},{})\".format(width,height))"
   ]
  },
  {
   "cell_type": "code",
   "execution_count": null,
   "metadata": {},
   "outputs": [],
   "source": [
    "slopes = [[1,1],[3,1],[5,1],[7,1],[1,2]]"
   ]
  },
  {
   "cell_type": "code",
   "execution_count": null,
   "metadata": {},
   "outputs": [],
   "source": [
    "prod = 1\n",
    "for slope in slopes:\n",
    "    dx = slope[0]\n",
    "    dy = slope[1]\n",
    "    x = 0\n",
    "    y = 0\n",
    "    trees=0\n",
    "    for y in range(dy, height, dy):\n",
    "      x+=dx\n",
    "      if hill[y][x % width]==\"#\": trees+=1\n",
    "    print(\"Slope ({},{}) => {} trees\".format(dx,dy,trees))\n",
    "    prod *=trees\n",
    "    \n",
    "print(\"Tree product for all slope = {}\".format(prod))"
   ]
  }
 ],
 "metadata": {
  "kernelspec": {
   "display_name": "Python 3",
   "language": "python",
   "name": "python3"
  },
  "language_info": {
   "codemirror_mode": {
    "name": "ipython",
    "version": 3
   },
   "file_extension": ".py",
   "mimetype": "text/x-python",
   "name": "python",
   "nbconvert_exporter": "python",
   "pygments_lexer": "ipython3",
   "version": "3.8.5"
  }
 },
 "nbformat": 4,
 "nbformat_minor": 4
}
